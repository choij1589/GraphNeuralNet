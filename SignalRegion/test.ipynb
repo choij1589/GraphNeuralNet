{
 "cells": [
  {
   "cell_type": "code",
   "execution_count": 1,
   "metadata": {},
   "outputs": [
    {
     "name": "stdout",
     "output_type": "stream",
     "text": [
      "Welcome to JupyROOT 6.22/02\n"
     ]
    }
   ],
   "source": [
    "from ROOT import TFile\n",
    "from EventToGraph import rtfile_to_datalist, MyDataset\n",
    "from torch_geometric.loader import DataLoader\n",
    "from sklearn.utils import shuffle"
   ]
  },
  {
   "cell_type": "code",
   "execution_count": 2,
   "metadata": {},
   "outputs": [],
   "source": [
    "f_sig = TFile.Open(\n",
    "    \"./SelectorOutput/2017/Skim1E2Mu__/Selector_TTToHcToWA_AToMuMu_MHc130_MA90.root\"\n",
    ")\n",
    "f_bkg = TFile.Open(\n",
    "    \"./SelectorOutput/2017/Skim1E2Mu__/Selector_TTLL_powheg.root\"\n",
    ")\n"
   ]
  },
  {
   "cell_type": "code",
   "execution_count": 3,
   "metadata": {},
   "outputs": [],
   "source": [
    "sig_datalist = rtfile_to_datalist(f_sig, is_signal=True)\n",
    "bkg_datalist = rtfile_to_datalist(f_bkg, is_signal=False)\n",
    "datalist = shuffle(sig_datalist + bkg_datalist)\n",
    "train_dataset = MyDataset(datalist[:11000])\n",
    "test_dataset = MyDataset(datalist[11000:])\n",
    "\n",
    "train_loader = DataLoader(train_dataset, batch_size=256, shuffle=True)\n",
    "test_loader = DataLoader(test_dataset, batch_size=256, shuffle=False)"
   ]
  },
  {
   "cell_type": "code",
   "execution_count": 4,
   "metadata": {},
   "outputs": [
    {
     "name": "stdout",
     "output_type": "stream",
     "text": [
      "ParticleNet(\n",
      "  (gn0): GraphNorm(9)\n",
      "  (conv1): EdgeConv()\n",
      "  (gn1): GraphNorm(256)\n",
      "  (conv2): EdgeConv()\n",
      "  (gn2): GraphNorm(256)\n",
      "  (conv3): EdgeConv()\n",
      "  (fc1): Linear(in_features=256, out_features=64, bias=True)\n",
      "  (classifier): Linear(in_features=64, out_features=2, bias=True)\n",
      ")\n"
     ]
    }
   ],
   "source": [
    "import torch\n",
    "import torch.nn.functional as F\n",
    "from torch.nn import Sequential, Linear, ReLU, SELU, BatchNorm1d\n",
    "from torch_geometric.nn import global_mean_pool, global_max_pool\n",
    "from torch_geometric.nn import MessagePassing, GraphNorm\n",
    "from torch_geometric.utils import add_self_loops, degree\n",
    "\n",
    "num_features = train_dataset[0].num_node_features\n",
    "num_classes = train_dataset.num_classes\n",
    "\n",
    "class EdgeConv(MessagePassing):\n",
    "    def __init__(self, in_channels, out_channels):\n",
    "        super().__init__(aggr='max')\n",
    "        self.mlp = Sequential(Linear(2*in_channels, out_channels),\n",
    "                              BatchNorm1d(),\n",
    "                              ReLU(),\n",
    "                              Linear(out_channels, out_channels),\n",
    "                              BatchNorm1d(),\n",
    "                              ReLU(),\n",
    "                              Linear(out_channels, out_channels))\n",
    "    \n",
    "    def forward(self, x, edge_index):\n",
    "        return self.propagate(edge_index, x=x)\n",
    "    \n",
    "    def message(self, x_i, x_j):\n",
    "        tmp = torch.cat([x_i, x_j-x_i], dim=1)\n",
    "        return self.mlp(tmp)\n",
    "    \n",
    "class ParticleNet(torch.nn.Module):\n",
    "    def __init__(self):\n",
    "        super().__init__()\n",
    "        self.gn0 = GraphNorm(num_features)\n",
    "        self.conv1 = EdgeConv(num_features, 256)\n",
    "        self.gn1 = GraphNorm(256)\n",
    "        self.conv2 = EdgeConv(256, 256)\n",
    "        self.gn2 = GraphNorm(256)\n",
    "        self.conv3 = EdgeConv(256, 256)\n",
    "        self.fc1 = Linear(256, 64)\n",
    "        self.classifier = Linear(64, num_classes)\n",
    "        \n",
    "    def forward(self, x, edge_index, batch):\n",
    "        x = self.gn0(x)\n",
    "        x = self.conv1(x, edge_index)\n",
    "        x = F.relu(x)\n",
    "        x = self.gn1(x)\n",
    "        x = self.conv2(x, edge_index)\n",
    "        x = F.relu(x)\n",
    "        x = self.gn2(x)\n",
    "        x = self.conv3(x, edge_index)\n",
    "        \n",
    "        x = global_mean_pool(x, batch)\n",
    "        x = self.fc1(x)\n",
    "        x = F.dropout(x, p=0.5, training=self.training)\n",
    "        x = self.classifier(x)\n",
    "        return F.softmax(x, dim=1)\n",
    "\n",
    "model = ParticleNet()\n",
    "print(model)"
   ]
  },
  {
   "cell_type": "code",
   "execution_count": 10,
   "metadata": {},
   "outputs": [],
   "source": [
    "DEVICE = 'cuda' if torch.cuda.is_available() else 'cpu' \n",
    "model = ParticleNet().to(DEVICE)\n",
    "optimizer = torch.optim.Adadelta(model.parameters(), lr=0.2)\n",
    "scheduler = torch.optim.lr_scheduler.ExponentialLR(optimizer, gamma=0.95)\n",
    "criterion = torch.nn.CrossEntropyLoss()\n",
    "\n",
    "def train():\n",
    "    model.train()\n",
    "    \n",
    "    for data in train_loader:\n",
    "        out = model(data.x.to(DEVICE), data.edge_index.to(DEVICE), data.batch.to(DEVICE))\n",
    "        loss = criterion(out, data.y.to(DEVICE))\n",
    "        loss.backward()\n",
    "        optimizer.step()\n",
    "        optimizer.zero_grad()\n",
    "    scheduler.step()\n",
    "        \n",
    "def test(loader):\n",
    "    model.eval()\n",
    "    \n",
    "    correct = 0\n",
    "    for data in loader:\n",
    "        out = model(data.x.to(DEVICE), data.edge_index.to(DEVICE), data.batch.to(DEVICE))\n",
    "        pred = out.argmax(dim=1)\n",
    "        correct += int((pred == data.y.to(DEVICE)).sum())\n",
    "    return correct / len(loader.dataset)"
   ]
  },
  {
   "cell_type": "code",
   "execution_count": 11,
   "metadata": {},
   "outputs": [
    {
     "name": "stdout",
     "output_type": "stream",
     "text": [
      "[EPOCH 0]\tTrain Acc: 0.7640,\tTest Acc: 0.7478\n",
      "[EPOCH 1]\tTrain Acc: 0.7963,\tTest Acc: 0.7824\n",
      "[EPOCH 2]\tTrain Acc: 0.8035,\tTest Acc: 0.7849\n",
      "[EPOCH 3]\tTrain Acc: 0.8088,\tTest Acc: 0.7979\n",
      "[EPOCH 4]\tTrain Acc: 0.8037,\tTest Acc: 0.7814\n",
      "[EPOCH 5]\tTrain Acc: 0.8185,\tTest Acc: 0.7981\n",
      "[EPOCH 6]\tTrain Acc: 0.8166,\tTest Acc: 0.7915\n",
      "[EPOCH 7]\tTrain Acc: 0.8244,\tTest Acc: 0.7994\n",
      "[EPOCH 8]\tTrain Acc: 0.8195,\tTest Acc: 0.7983\n",
      "[EPOCH 9]\tTrain Acc: 0.8303,\tTest Acc: 0.8062\n",
      "[EPOCH 10]\tTrain Acc: 0.8399,\tTest Acc: 0.8108\n",
      "[EPOCH 11]\tTrain Acc: 0.8435,\tTest Acc: 0.8155\n",
      "[EPOCH 12]\tTrain Acc: 0.8536,\tTest Acc: 0.8204\n",
      "[EPOCH 13]\tTrain Acc: 0.8434,\tTest Acc: 0.8062\n",
      "[EPOCH 14]\tTrain Acc: 0.8538,\tTest Acc: 0.8182\n",
      "[EPOCH 15]\tTrain Acc: 0.8542,\tTest Acc: 0.8176\n",
      "[EPOCH 16]\tTrain Acc: 0.8581,\tTest Acc: 0.8171\n",
      "[EPOCH 17]\tTrain Acc: 0.8601,\tTest Acc: 0.8186\n",
      "[EPOCH 18]\tTrain Acc: 0.8692,\tTest Acc: 0.8222\n",
      "[EPOCH 19]\tTrain Acc: 0.8627,\tTest Acc: 0.8143\n",
      "[EPOCH 20]\tTrain Acc: 0.8659,\tTest Acc: 0.8185\n",
      "[EPOCH 21]\tTrain Acc: 0.8808,\tTest Acc: 0.8222\n",
      "[EPOCH 22]\tTrain Acc: 0.8805,\tTest Acc: 0.8215\n",
      "[EPOCH 23]\tTrain Acc: 0.8824,\tTest Acc: 0.8232\n",
      "[EPOCH 24]\tTrain Acc: 0.8905,\tTest Acc: 0.8259\n",
      "[EPOCH 25]\tTrain Acc: 0.8811,\tTest Acc: 0.8154\n",
      "[EPOCH 26]\tTrain Acc: 0.8923,\tTest Acc: 0.8238\n",
      "[EPOCH 27]\tTrain Acc: 0.8916,\tTest Acc: 0.8183\n",
      "[EPOCH 28]\tTrain Acc: 0.8901,\tTest Acc: 0.8173\n",
      "[EPOCH 29]\tTrain Acc: 0.9016,\tTest Acc: 0.8228\n",
      "[EPOCH 30]\tTrain Acc: 0.9014,\tTest Acc: 0.8205\n",
      "[EPOCH 31]\tTrain Acc: 0.9089,\tTest Acc: 0.8255\n",
      "[EPOCH 32]\tTrain Acc: 0.9072,\tTest Acc: 0.8241\n",
      "[EPOCH 33]\tTrain Acc: 0.9120,\tTest Acc: 0.8247\n",
      "[EPOCH 34]\tTrain Acc: 0.9115,\tTest Acc: 0.8193\n",
      "[EPOCH 35]\tTrain Acc: 0.9136,\tTest Acc: 0.8228\n",
      "[EPOCH 36]\tTrain Acc: 0.9147,\tTest Acc: 0.8185\n",
      "[EPOCH 37]\tTrain Acc: 0.9149,\tTest Acc: 0.8195\n",
      "[EPOCH 38]\tTrain Acc: 0.9227,\tTest Acc: 0.8241\n",
      "[EPOCH 39]\tTrain Acc: 0.9215,\tTest Acc: 0.8237\n",
      "[EPOCH 40]\tTrain Acc: 0.9174,\tTest Acc: 0.8171\n",
      "[EPOCH 41]\tTrain Acc: 0.9212,\tTest Acc: 0.8199\n",
      "[EPOCH 42]\tTrain Acc: 0.9282,\tTest Acc: 0.8234\n",
      "[EPOCH 43]\tTrain Acc: 0.9242,\tTest Acc: 0.8242\n",
      "[EPOCH 44]\tTrain Acc: 0.9310,\tTest Acc: 0.8219\n",
      "[EPOCH 45]\tTrain Acc: 0.9335,\tTest Acc: 0.8239\n",
      "[EPOCH 46]\tTrain Acc: 0.9344,\tTest Acc: 0.8267\n",
      "[EPOCH 47]\tTrain Acc: 0.9375,\tTest Acc: 0.8259\n",
      "[EPOCH 48]\tTrain Acc: 0.9371,\tTest Acc: 0.8264\n",
      "[EPOCH 49]\tTrain Acc: 0.9368,\tTest Acc: 0.8259\n",
      "[EPOCH 50]\tTrain Acc: 0.9399,\tTest Acc: 0.8235\n",
      "[EPOCH 51]\tTrain Acc: 0.9410,\tTest Acc: 0.8241\n",
      "[EPOCH 52]\tTrain Acc: 0.9403,\tTest Acc: 0.8257\n",
      "[EPOCH 53]\tTrain Acc: 0.9422,\tTest Acc: 0.8246\n"
     ]
    },
    {
     "ename": "KeyboardInterrupt",
     "evalue": "",
     "output_type": "error",
     "traceback": [
      "\u001b[0;31m---------------------------------------------------------------------------\u001b[0m",
      "\u001b[0;31mKeyboardInterrupt\u001b[0m                         Traceback (most recent call last)",
      "\u001b[0;32m/tmp/ipykernel_514081/1564185327.py\u001b[0m in \u001b[0;36m<module>\u001b[0;34m\u001b[0m\n\u001b[1;32m      2\u001b[0m \u001b[0mtest_scores\u001b[0m \u001b[0;34m=\u001b[0m \u001b[0;34m[\u001b[0m\u001b[0;34m]\u001b[0m\u001b[0;34m\u001b[0m\u001b[0;34m\u001b[0m\u001b[0m\n\u001b[1;32m      3\u001b[0m \u001b[0;32mfor\u001b[0m \u001b[0mepoch\u001b[0m \u001b[0;32min\u001b[0m \u001b[0mrange\u001b[0m\u001b[0;34m(\u001b[0m\u001b[0;36m120\u001b[0m\u001b[0;34m)\u001b[0m\u001b[0;34m:\u001b[0m\u001b[0;34m\u001b[0m\u001b[0;34m\u001b[0m\u001b[0m\n\u001b[0;32m----> 4\u001b[0;31m     \u001b[0mtrain\u001b[0m\u001b[0;34m(\u001b[0m\u001b[0;34m)\u001b[0m\u001b[0;34m\u001b[0m\u001b[0;34m\u001b[0m\u001b[0m\n\u001b[0m\u001b[1;32m      5\u001b[0m     \u001b[0mtrain_acc\u001b[0m \u001b[0;34m=\u001b[0m \u001b[0mtest\u001b[0m\u001b[0;34m(\u001b[0m\u001b[0mtrain_loader\u001b[0m\u001b[0;34m)\u001b[0m\u001b[0;34m\u001b[0m\u001b[0;34m\u001b[0m\u001b[0m\n\u001b[1;32m      6\u001b[0m     \u001b[0mtest_acc\u001b[0m \u001b[0;34m=\u001b[0m \u001b[0mtest\u001b[0m\u001b[0;34m(\u001b[0m\u001b[0mtest_loader\u001b[0m\u001b[0;34m)\u001b[0m\u001b[0;34m\u001b[0m\u001b[0;34m\u001b[0m\u001b[0m\n",
      "\u001b[0;32m/tmp/ipykernel_514081/3920684349.py\u001b[0m in \u001b[0;36mtrain\u001b[0;34m()\u001b[0m\n\u001b[1;32m      9\u001b[0m \u001b[0;34m\u001b[0m\u001b[0m\n\u001b[1;32m     10\u001b[0m     \u001b[0;32mfor\u001b[0m \u001b[0mdata\u001b[0m \u001b[0;32min\u001b[0m \u001b[0mtrain_loader\u001b[0m\u001b[0;34m:\u001b[0m\u001b[0;34m\u001b[0m\u001b[0;34m\u001b[0m\u001b[0m\n\u001b[0;32m---> 11\u001b[0;31m         \u001b[0mout\u001b[0m \u001b[0;34m=\u001b[0m \u001b[0mmodel\u001b[0m\u001b[0;34m(\u001b[0m\u001b[0mdata\u001b[0m\u001b[0;34m.\u001b[0m\u001b[0mx\u001b[0m\u001b[0;34m.\u001b[0m\u001b[0mto\u001b[0m\u001b[0;34m(\u001b[0m\u001b[0mDEVICE\u001b[0m\u001b[0;34m)\u001b[0m\u001b[0;34m,\u001b[0m \u001b[0mdata\u001b[0m\u001b[0;34m.\u001b[0m\u001b[0medge_index\u001b[0m\u001b[0;34m.\u001b[0m\u001b[0mto\u001b[0m\u001b[0;34m(\u001b[0m\u001b[0mDEVICE\u001b[0m\u001b[0;34m)\u001b[0m\u001b[0;34m,\u001b[0m \u001b[0mdata\u001b[0m\u001b[0;34m.\u001b[0m\u001b[0mbatch\u001b[0m\u001b[0;34m.\u001b[0m\u001b[0mto\u001b[0m\u001b[0;34m(\u001b[0m\u001b[0mDEVICE\u001b[0m\u001b[0;34m)\u001b[0m\u001b[0;34m)\u001b[0m\u001b[0;34m\u001b[0m\u001b[0;34m\u001b[0m\u001b[0m\n\u001b[0m\u001b[1;32m     12\u001b[0m         \u001b[0mloss\u001b[0m \u001b[0;34m=\u001b[0m \u001b[0mcriterion\u001b[0m\u001b[0;34m(\u001b[0m\u001b[0mout\u001b[0m\u001b[0;34m,\u001b[0m \u001b[0mdata\u001b[0m\u001b[0;34m.\u001b[0m\u001b[0my\u001b[0m\u001b[0;34m.\u001b[0m\u001b[0mto\u001b[0m\u001b[0;34m(\u001b[0m\u001b[0mDEVICE\u001b[0m\u001b[0;34m)\u001b[0m\u001b[0;34m)\u001b[0m\u001b[0;34m\u001b[0m\u001b[0;34m\u001b[0m\u001b[0m\n\u001b[1;32m     13\u001b[0m         \u001b[0mloss\u001b[0m\u001b[0;34m.\u001b[0m\u001b[0mbackward\u001b[0m\u001b[0;34m(\u001b[0m\u001b[0;34m)\u001b[0m\u001b[0;34m\u001b[0m\u001b[0;34m\u001b[0m\u001b[0m\n",
      "\u001b[0;32m~/miniconda3/envs/torch/lib/python3.9/site-packages/torch/nn/modules/module.py\u001b[0m in \u001b[0;36m_call_impl\u001b[0;34m(self, *input, **kwargs)\u001b[0m\n\u001b[1;32m   1100\u001b[0m         if not (self._backward_hooks or self._forward_hooks or self._forward_pre_hooks or _global_backward_hooks\n\u001b[1;32m   1101\u001b[0m                 or _global_forward_hooks or _global_forward_pre_hooks):\n\u001b[0;32m-> 1102\u001b[0;31m             \u001b[0;32mreturn\u001b[0m \u001b[0mforward_call\u001b[0m\u001b[0;34m(\u001b[0m\u001b[0;34m*\u001b[0m\u001b[0minput\u001b[0m\u001b[0;34m,\u001b[0m \u001b[0;34m**\u001b[0m\u001b[0mkwargs\u001b[0m\u001b[0;34m)\u001b[0m\u001b[0;34m\u001b[0m\u001b[0;34m\u001b[0m\u001b[0m\n\u001b[0m\u001b[1;32m   1103\u001b[0m         \u001b[0;31m# Do not call functions when jit is used\u001b[0m\u001b[0;34m\u001b[0m\u001b[0;34m\u001b[0m\u001b[0m\n\u001b[1;32m   1104\u001b[0m         \u001b[0mfull_backward_hooks\u001b[0m\u001b[0;34m,\u001b[0m \u001b[0mnon_full_backward_hooks\u001b[0m \u001b[0;34m=\u001b[0m \u001b[0;34m[\u001b[0m\u001b[0;34m]\u001b[0m\u001b[0;34m,\u001b[0m \u001b[0;34m[\u001b[0m\u001b[0;34m]\u001b[0m\u001b[0;34m\u001b[0m\u001b[0;34m\u001b[0m\u001b[0m\n",
      "\u001b[0;32m/tmp/ipykernel_514081/3621330089.py\u001b[0m in \u001b[0;36mforward\u001b[0;34m(self, x, edge_index, batch)\u001b[0m\n\u001b[1;32m     44\u001b[0m         \u001b[0mx\u001b[0m \u001b[0;34m=\u001b[0m \u001b[0mself\u001b[0m\u001b[0;34m.\u001b[0m\u001b[0mconv2\u001b[0m\u001b[0;34m(\u001b[0m\u001b[0mx\u001b[0m\u001b[0;34m,\u001b[0m \u001b[0medge_index\u001b[0m\u001b[0;34m)\u001b[0m\u001b[0;34m\u001b[0m\u001b[0;34m\u001b[0m\u001b[0m\n\u001b[1;32m     45\u001b[0m         \u001b[0mx\u001b[0m \u001b[0;34m=\u001b[0m \u001b[0mF\u001b[0m\u001b[0;34m.\u001b[0m\u001b[0mrelu\u001b[0m\u001b[0;34m(\u001b[0m\u001b[0mx\u001b[0m\u001b[0;34m)\u001b[0m\u001b[0;34m\u001b[0m\u001b[0;34m\u001b[0m\u001b[0m\n\u001b[0;32m---> 46\u001b[0;31m         \u001b[0mx\u001b[0m \u001b[0;34m=\u001b[0m \u001b[0mself\u001b[0m\u001b[0;34m.\u001b[0m\u001b[0mgn2\u001b[0m\u001b[0;34m(\u001b[0m\u001b[0mx\u001b[0m\u001b[0;34m)\u001b[0m\u001b[0;34m\u001b[0m\u001b[0;34m\u001b[0m\u001b[0m\n\u001b[0m\u001b[1;32m     47\u001b[0m         \u001b[0mx\u001b[0m \u001b[0;34m=\u001b[0m \u001b[0mself\u001b[0m\u001b[0;34m.\u001b[0m\u001b[0mconv3\u001b[0m\u001b[0;34m(\u001b[0m\u001b[0mx\u001b[0m\u001b[0;34m,\u001b[0m \u001b[0medge_index\u001b[0m\u001b[0;34m)\u001b[0m\u001b[0;34m\u001b[0m\u001b[0;34m\u001b[0m\u001b[0m\n\u001b[1;32m     48\u001b[0m \u001b[0;34m\u001b[0m\u001b[0m\n",
      "\u001b[0;32m~/miniconda3/envs/torch/lib/python3.9/site-packages/torch/nn/modules/module.py\u001b[0m in \u001b[0;36m_call_impl\u001b[0;34m(self, *input, **kwargs)\u001b[0m\n\u001b[1;32m   1100\u001b[0m         if not (self._backward_hooks or self._forward_hooks or self._forward_pre_hooks or _global_backward_hooks\n\u001b[1;32m   1101\u001b[0m                 or _global_forward_hooks or _global_forward_pre_hooks):\n\u001b[0;32m-> 1102\u001b[0;31m             \u001b[0;32mreturn\u001b[0m \u001b[0mforward_call\u001b[0m\u001b[0;34m(\u001b[0m\u001b[0;34m*\u001b[0m\u001b[0minput\u001b[0m\u001b[0;34m,\u001b[0m \u001b[0;34m**\u001b[0m\u001b[0mkwargs\u001b[0m\u001b[0;34m)\u001b[0m\u001b[0;34m\u001b[0m\u001b[0;34m\u001b[0m\u001b[0m\n\u001b[0m\u001b[1;32m   1103\u001b[0m         \u001b[0;31m# Do not call functions when jit is used\u001b[0m\u001b[0;34m\u001b[0m\u001b[0;34m\u001b[0m\u001b[0m\n\u001b[1;32m   1104\u001b[0m         \u001b[0mfull_backward_hooks\u001b[0m\u001b[0;34m,\u001b[0m \u001b[0mnon_full_backward_hooks\u001b[0m \u001b[0;34m=\u001b[0m \u001b[0;34m[\u001b[0m\u001b[0;34m]\u001b[0m\u001b[0;34m,\u001b[0m \u001b[0;34m[\u001b[0m\u001b[0;34m]\u001b[0m\u001b[0;34m\u001b[0m\u001b[0;34m\u001b[0m\u001b[0m\n",
      "\u001b[0;32m~/miniconda3/envs/torch/lib/python3.9/site-packages/torch_geometric/nn/norm/graph_norm.py\u001b[0m in \u001b[0;36mforward\u001b[0;34m(self, x, batch)\u001b[0m\n\u001b[1;32m     49\u001b[0m             \u001b[0mbatch\u001b[0m \u001b[0;34m=\u001b[0m \u001b[0mx\u001b[0m\u001b[0;34m.\u001b[0m\u001b[0mnew_zeros\u001b[0m\u001b[0;34m(\u001b[0m\u001b[0mx\u001b[0m\u001b[0;34m.\u001b[0m\u001b[0msize\u001b[0m\u001b[0;34m(\u001b[0m\u001b[0;36m0\u001b[0m\u001b[0;34m)\u001b[0m\u001b[0;34m,\u001b[0m \u001b[0mdtype\u001b[0m\u001b[0;34m=\u001b[0m\u001b[0mtorch\u001b[0m\u001b[0;34m.\u001b[0m\u001b[0mlong\u001b[0m\u001b[0;34m)\u001b[0m\u001b[0;34m\u001b[0m\u001b[0;34m\u001b[0m\u001b[0m\n\u001b[1;32m     50\u001b[0m \u001b[0;34m\u001b[0m\u001b[0m\n\u001b[0;32m---> 51\u001b[0;31m         \u001b[0mbatch_size\u001b[0m \u001b[0;34m=\u001b[0m \u001b[0mint\u001b[0m\u001b[0;34m(\u001b[0m\u001b[0mbatch\u001b[0m\u001b[0;34m.\u001b[0m\u001b[0mmax\u001b[0m\u001b[0;34m(\u001b[0m\u001b[0;34m)\u001b[0m\u001b[0;34m)\u001b[0m \u001b[0;34m+\u001b[0m \u001b[0;36m1\u001b[0m\u001b[0;34m\u001b[0m\u001b[0;34m\u001b[0m\u001b[0m\n\u001b[0m\u001b[1;32m     52\u001b[0m \u001b[0;34m\u001b[0m\u001b[0m\n\u001b[1;32m     53\u001b[0m         \u001b[0mmean\u001b[0m \u001b[0;34m=\u001b[0m \u001b[0mscatter_mean\u001b[0m\u001b[0;34m(\u001b[0m\u001b[0mx\u001b[0m\u001b[0;34m,\u001b[0m \u001b[0mbatch\u001b[0m\u001b[0;34m,\u001b[0m \u001b[0mdim\u001b[0m\u001b[0;34m=\u001b[0m\u001b[0;36m0\u001b[0m\u001b[0;34m,\u001b[0m \u001b[0mdim_size\u001b[0m\u001b[0;34m=\u001b[0m\u001b[0mbatch_size\u001b[0m\u001b[0;34m)\u001b[0m\u001b[0;34m\u001b[0m\u001b[0;34m\u001b[0m\u001b[0m\n",
      "\u001b[0;31mKeyboardInterrupt\u001b[0m: "
     ]
    }
   ],
   "source": [
    "train_scores = []\n",
    "test_scores = []\n",
    "for epoch in range(120):\n",
    "    train()\n",
    "    train_acc = test(train_loader)\n",
    "    test_acc = test(test_loader)\n",
    "    train_scores.append(train_acc)\n",
    "    test_scores.append(test_acc)\n",
    "    print(f'[EPOCH {epoch}]\\tTrain Acc: {train_acc:.4f},\\tTest Acc: {test_acc:.4f}')"
   ]
  },
  {
   "cell_type": "code",
   "execution_count": 7,
   "metadata": {},
   "outputs": [
    {
     "data": {
      "image/png": "[encoded data removed]",
      "text/plain": [
       "<Figure size 864x576 with 1 Axes>"
      ]
     },
     "metadata": {
      "needs_background": "light"
     },
     "output_type": "display_data"
    }
   ],
   "source": [
    "import matplotlib.pyplot as plt\n",
    "\n",
    "plt.figure(figsize=(12, 8))\n",
    "plt.plot(range(120), train_scores, 'r--', label='Train Accuracy')\n",
    "plt.plot(range(120), test_scores, 'b--', label=\"Test Accuracy\")\n",
    "plt.legend(loc='best')\n",
    "plt.show()"
   ]
  },
  {
   "cell_type": "markdown",
   "metadata": {},
   "source": []
  }
 ],
 "metadata": {
  "interpreter": {
   "hash": "6f64be793538f7fe230f350828c9baf03d97c4df0981f52e8388f53f367f4a42"
  },
  "kernelspec": {
   "display_name": "Python 3.9.7 ('torch')",
   "language": "python",
   "name": "python3"
  },
  "language_info": {
   "codemirror_mode": {
    "name": "ipython",
    "version": 3
   },
   "file_extension": ".py",
   "mimetype": "text/x-python",
   "name": "python",
   "nbconvert_exporter": "python",
   "pygments_lexer": "ipython3",
   "version": "3.9.7"
  },
  "orig_nbformat": 4
 },
 "nbformat": 4,
 "nbformat_minor": 2
}
